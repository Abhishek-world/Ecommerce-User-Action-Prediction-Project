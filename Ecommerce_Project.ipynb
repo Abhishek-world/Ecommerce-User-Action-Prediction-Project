{
 "cells": [
  {
   "cell_type": "code",
   "execution_count": 1,
   "metadata": {},
   "outputs": [],
   "source": [
    "import numpy as np\n",
    "import pandas as pd\n",
    "import matplotlib.pyplot as plt"
   ]
  },
  {
   "cell_type": "code",
   "execution_count": 2,
   "metadata": {},
   "outputs": [],
   "source": [
    "df=pd.read_csv('ecommerce_data.csv')"
   ]
  },
  {
   "cell_type": "code",
   "execution_count": 3,
   "metadata": {},
   "outputs": [
    {
     "data": {
      "text/plain": [
       "(500, 6)"
      ]
     },
     "execution_count": 3,
     "metadata": {},
     "output_type": "execute_result"
    }
   ],
   "source": [
    "df.head()\n",
    "df.shape"
   ]
  },
  {
   "cell_type": "code",
   "execution_count": 4,
   "metadata": {},
   "outputs": [
    {
     "name": "stdout",
     "output_type": "stream",
     "text": [
      "[ 1.         -0.81697841 -0.40827769 ...  0.          0.\n",
      "  1.        ]\n",
      "[0. 1. 0. 0. 0. 1. 0. 0. 0. 1. 0. 1. 1. 1. 0. 0. 0. 0. 1. 0. 0. 0. 1. 1.\n",
      " 0. 0. 1. 1. 0. 1. 0. 1. 0. 1. 0. 0. 1. 1. 1. 1. 0. 0. 1. 1. 0. 0. 1. 0.\n",
      " 0. 1. 1. 1. 1. 1. 0. 0. 0. 0. 0. 0. 1. 0. 0. 0. 0. 0. 0. 0. 0. 0. 0. 1.\n",
      " 1. 1. 0. 0. 0. 0. 1. 0. 1. 0. 0. 1. 0. 1. 0. 0. 1. 0. 0. 1. 0. 0. 1. 0.\n",
      " 1. 1. 0. 0. 0. 0. 0. 1. 0. 1. 0. 0. 0. 0. 0. 0. 0. 1. 1. 0. 0. 0. 0. 0.\n",
      " 1. 1. 1. 0. 0. 1. 1. 0. 0. 0. 0. 0. 0. 0. 1. 0. 1. 0. 0. 0. 0. 1. 0. 1.\n",
      " 1. 0. 1. 0. 0. 0. 0. 0. 1. 0. 0. 0. 0. 1. 0. 0. 0. 0. 1. 0. 1. 0. 0. 0.\n",
      " 0. 1. 1. 1. 0. 1. 1. 1. 0. 1. 0. 1. 1. 1. 0. 0. 0. 0. 0. 1. 0. 1. 1. 0.\n",
      " 0. 1. 0. 0. 0. 1. 1. 0. 0. 0. 0. 1. 0. 0. 0. 0. 0. 0. 1. 0. 0. 1. 0. 1.\n",
      " 0. 0. 0. 1. 0. 0. 0. 1. 0. 0. 1. 0. 1. 0. 1. 0. 0. 1. 0. 1. 1. 0. 1. 1.\n",
      " 0. 0. 1. 0. 0. 0. 0. 1. 1. 1. 1. 1. 1. 1. 1. 0. 0. 0. 0. 1. 1. 0. 1. 1.\n",
      " 0. 0. 0. 0. 1. 0. 0. 1. 0. 0. 0. 0. 1. 0. 1. 0. 0. 1. 1. 1. 0. 0. 0. 0.\n",
      " 1. 1. 1. 0. 0. 0. 1. 0. 1. 1. 0. 0. 0. 0. 0. 0. 0. 0. 1. 1. 1. 1. 0. 1.\n",
      " 0. 0. 0. 0. 1. 0. 1. 1. 0. 1. 0. 1. 0. 0. 1. 0. 1. 0. 0. 1. 0. 0. 0. 0.\n",
      " 1. 0. 0. 0. 1. 0. 1. 0. 0. 0. 0. 0. 1. 0. 0. 0. 0. 0. 0. 0. 0. 1. 0. 1.\n",
      " 1. 0. 1. 0. 0. 0. 1. 0. 0. 0. 0. 1. 1. 1. 0. 1. 0. 0. 0. 0. 0. 0. 0. 0.\n",
      " 0. 1. 1. 1. 0. 1. 1. 0. 0. 0. 0. 0. 0. 0.]\n"
     ]
    },
    {
     "name": "stderr",
     "output_type": "stream",
     "text": [
      "C:\\ProgramData\\Anaconda3\\lib\\site-packages\\ipykernel_launcher.py:4: FutureWarning: Method .as_matrix will be removed in a future version. Use .values instead.\n",
      "  after removing the cwd from sys.path.\n"
     ]
    }
   ],
   "source": [
    "#Applying Preprocessing Techniques\n",
    "def Get_data():\n",
    "    df=pd.read_csv('ecommerce_data.csv')\n",
    "    data=df.as_matrix() #converting data into matrix form\n",
    "    \n",
    "    x=data[: ,:-1]  #All the data till last Column\n",
    "    y=data[:,-1]    #data of last Column\n",
    "    #Applying Preprocessing techniques\n",
    "    x[: ,1]=(x[: ,1]-x[: ,1].mean())/x[: ,1].std()\n",
    "    x[: ,2]=(x[: ,2]-x[: ,2].mean())/x[: ,2].std()\n",
    "    #here we are going to work with the time of the day column\n",
    "    N,D=x.shape\n",
    "    x2=np.zeros((N,D+3))\n",
    "    #As most of the values are going to be the same first 4 columns are going to be the same \n",
    "    x2[: ,:(D-1)]=x[: ,:(D-1)]\n",
    "    #Applying the Preprocessing as time if of the day by splitting it into four parts\n",
    "    for n in range(N):\n",
    "        t=int(x[n,D-1])\n",
    "        x2[n,t+D-1]=1\n",
    "    #we can create a new matrix\n",
    "    z=np.zeros((N,4))\n",
    "    z[np.arange(N),x[:,D-1].astype(np.int32)]=1\n",
    "    #Similar can be done as\n",
    "    #x2[:,-4:]=z\n",
    "    #to check if it works\n",
    "    assert(np.abs(x2[:,-4:]-z).sum()<10e-10)\n",
    "    return x2,y\n",
    "def get_binary_data():\n",
    "    x,y=Get_data()\n",
    "    #print(x)\n",
    "    #print(y)\n",
    "    x2=x[x<=1]\n",
    "    y2=y[y<=1]\n",
    "    print(x2)\n",
    "    print(y2)\n",
    "    return x2,y2\n",
    "\n",
    "    \n",
    "data=get_binary_data()   "
   ]
  },
  {
   "cell_type": "code",
   "execution_count": null,
   "metadata": {},
   "outputs": [],
   "source": []
  },
  {
   "cell_type": "code",
   "execution_count": 5,
   "metadata": {},
   "outputs": [
    {
     "name": "stderr",
     "output_type": "stream",
     "text": [
      "C:\\ProgramData\\Anaconda3\\lib\\site-packages\\ipykernel_launcher.py:1: FutureWarning: Method .as_matrix will be removed in a future version. Use .values instead.\n",
      "  \"\"\"Entry point for launching an IPython kernel.\n"
     ]
    },
    {
     "data": {
      "text/plain": [
       "array([0., 1., 1.])"
      ]
     },
     "execution_count": 5,
     "metadata": {},
     "output_type": "execute_result"
    }
   ],
   "source": [
    "data=df.as_matrix()\n",
    "data[2:5 ,1]"
   ]
  },
  {
   "cell_type": "code",
   "execution_count": 6,
   "metadata": {},
   "outputs": [],
   "source": [
    "n, d=data.shape"
   ]
  },
  {
   "cell_type": "code",
   "execution_count": 10,
   "metadata": {},
   "outputs": [
    {
     "data": {
      "text/plain": [
       "500"
      ]
     },
     "execution_count": 10,
     "metadata": {},
     "output_type": "execute_result"
    }
   ],
   "source": [
    "n\n"
   ]
  },
  {
   "cell_type": "code",
   "execution_count": 11,
   "metadata": {},
   "outputs": [
    {
     "data": {
      "text/plain": [
       "6"
      ]
     },
     "execution_count": 11,
     "metadata": {},
     "output_type": "execute_result"
    }
   ],
   "source": [
    "d"
   ]
  },
  {
   "cell_type": "code",
   "execution_count": 7,
   "metadata": {},
   "outputs": [
    {
     "name": "stderr",
     "output_type": "stream",
     "text": [
      "C:\\ProgramData\\Anaconda3\\lib\\site-packages\\ipykernel_launcher.py:4: FutureWarning: Method .as_matrix will be removed in a future version. Use .values instead.\n",
      "  after removing the cwd from sys.path.\n"
     ]
    },
    {
     "data": {
      "text/plain": [
       "8"
      ]
     },
     "execution_count": 7,
     "metadata": {},
     "output_type": "execute_result"
    }
   ],
   "source": [
    "#ann_predict.py\n",
    "#from process import Get_data\n",
    "x,y=Get_data()\n",
    "#Assingning wweights\n",
    "M=5 #5 hidden Units\n",
    "D=x.shape[1]\n",
    "D"
   ]
  },
  {
   "cell_type": "code",
   "execution_count": 8,
   "metadata": {},
   "outputs": [
    {
     "data": {
      "text/plain": [
       "4"
      ]
     },
     "execution_count": 8,
     "metadata": {},
     "output_type": "execute_result"
    }
   ],
   "source": [
    "#Number of unique Values in Y\n",
    "k=len(set(y))\n",
    "k"
   ]
  },
  {
   "cell_type": "code",
   "execution_count": 9,
   "metadata": {},
   "outputs": [
    {
     "data": {
      "text/plain": [
       "array([[-0.4368205 ,  2.29504719,  0.29136594,  0.42268918,  0.79110149],\n",
       "       [-0.02064315, -1.12830503,  0.33559012,  1.4739035 ,  1.17667369],\n",
       "       [-1.74001312,  1.85954006,  0.31517056, -0.77806985, -0.14388182],\n",
       "       [ 0.80658803,  1.41910728,  3.22511493,  0.60908782, -1.40037863],\n",
       "       [ 0.49619176,  0.40141467, -0.03367213,  0.86978063, -0.51690709],\n",
       "       [-0.62350625, -1.79199911,  0.52844364,  0.53001586,  0.639837  ],\n",
       "       [-0.5122289 ,  0.60678296,  0.90981233,  0.41965091,  0.33702588],\n",
       "       [ 0.86421479,  0.57270124, -0.33440786, -0.65480251,  1.49427041]])"
      ]
     },
     "execution_count": 9,
     "metadata": {},
     "output_type": "execute_result"
    }
   ],
   "source": [
    "w1=np.random.randn(D,M)\n",
    "w1"
   ]
  },
  {
   "cell_type": "code",
   "execution_count": 10,
   "metadata": {},
   "outputs": [
    {
     "data": {
      "text/plain": [
       "array([[ 0.44170453, -1.60064378,  0.00893398,  0.54411512, -0.4963367 ]])"
      ]
     },
     "execution_count": 10,
     "metadata": {},
     "output_type": "execute_result"
    }
   ],
   "source": [
    "b1=np.random.randn(1,M)\n",
    "b1"
   ]
  },
  {
   "cell_type": "code",
   "execution_count": 11,
   "metadata": {},
   "outputs": [
    {
     "data": {
      "text/plain": [
       "array([[-1.1043105 , -1.9792126 , -0.01700444, -1.96586876],\n",
       "       [-1.01046645, -0.71472824, -2.60140268, -1.67708118],\n",
       "       [ 0.33581131, -0.61396846, -0.39201637, -0.60110136],\n",
       "       [ 0.44962313,  0.0644399 , -0.29228621, -0.57929715],\n",
       "       [ 0.26449245,  0.57415523, -1.27588963, -0.43657119]])"
      ]
     },
     "execution_count": 11,
     "metadata": {},
     "output_type": "execute_result"
    }
   ],
   "source": [
    "w2=np.random.randn(M,k)\n",
    "w2"
   ]
  },
  {
   "cell_type": "code",
   "execution_count": 12,
   "metadata": {},
   "outputs": [
    {
     "data": {
      "text/plain": [
       "array([0., 0., 0., 0.])"
      ]
     },
     "execution_count": 12,
     "metadata": {},
     "output_type": "execute_result"
    }
   ],
   "source": [
    "b2=np.zeros(k)\n",
    "b2"
   ]
  },
  {
   "cell_type": "code",
   "execution_count": 13,
   "metadata": {},
   "outputs": [],
   "source": [
    "def softmax(a):\n",
    "    expA=np.exp(a)\n",
    "    return expA/expA.sum(axis=1, keepdims=True)"
   ]
  },
  {
   "cell_type": "code",
   "execution_count": 14,
   "metadata": {},
   "outputs": [],
   "source": [
    "def forward(x,w1,b1,w2,b2):\n",
    "    #Calcualating the hidden layer Values\n",
    "    z=np.tanh(x.dot(w1)+b1)\n",
    "    return softmax(z.dot(w2)+b2)"
   ]
  },
  {
   "cell_type": "code",
   "execution_count": 15,
   "metadata": {},
   "outputs": [],
   "source": [
    "p_of_y_givenx=forward(x,w1,b1,w2,b2)\n",
    "predictions=np.argmax(p_of_y_givenx,axis=1)"
   ]
  },
  {
   "cell_type": "code",
   "execution_count": 16,
   "metadata": {},
   "outputs": [
    {
     "name": "stdout",
     "output_type": "stream",
     "text": [
      "classification score:  0.132\n"
     ]
    }
   ],
   "source": [
    "#calculating accuracy\n",
    "def classification_rate(y,p):\n",
    "    return np.mean(y==p)\n",
    "print(\"classification score: \", classification_rate(y,predictions))\n",
    "    "
   ]
  },
  {
   "cell_type": "code",
   "execution_count": 17,
   "metadata": {},
   "outputs": [
    {
     "name": "stderr",
     "output_type": "stream",
     "text": [
      "C:\\ProgramData\\Anaconda3\\lib\\site-packages\\ipykernel_launcher.py:4: FutureWarning: Method .as_matrix will be removed in a future version. Use .values instead.\n",
      "  after removing the cwd from sys.path.\n"
     ]
    },
    {
     "name": "stdout",
     "output_type": "stream",
     "text": [
      "0   0.43149524262826033   0.46194613415017627\n",
      "1000   0.07728899288655831   0.136806521545282\n",
      "2000   0.07229914556496025   0.13490831595795597\n",
      "3000   0.07050656603360515   0.1348892289744298\n",
      "4000   0.06963353066172537   0.1351206572456924\n",
      "5000   0.06913918583107717   0.13535462769365347\n",
      "6000   0.0688322982729051   0.13554933926161447\n",
      "7000   0.06862953325821264   0.1357041337889625\n",
      "8000   0.06848938580525092   0.13582612876669478\n",
      "9000   0.06838914886276698   0.13592259549199223\n",
      "Final train classification rate:  0.925\n",
      "Final test classification rate: 0.85\n"
     ]
    },
    {
     "data": {
      "image/png": "[encoded data removed]",
      "text/plain": [
       "<Figure size 432x288 with 1 Axes>"
      ]
     },
     "metadata": {
      "needs_background": "light"
     },
     "output_type": "display_data"
    }
   ],
   "source": [
    "#Trainning Logistic Regression with softmax\n",
    "from sklearn.utils import shuffle\n",
    "#we are going to need an indicator matrix from targets\n",
    "def y2indicator(y,K):\n",
    "    N=len(y)\n",
    "    ind=np.zeros((N,K))#indicator matrix\n",
    "    for i in range(N):\n",
    "        ind[i,y[i]]=1\n",
    "    return ind\n",
    "X,Y=Get_data()\n",
    "X,Y=shuffle(X,Y)\n",
    "Y=Y.astype(np.int32)\n",
    "D=X.shape[1]\n",
    "K=len(set(y))\n",
    "Xtrain=X[:-100]\n",
    "Ytrain=Y[:-100]\n",
    "ytrain_ind=y2indicator(Ytrain,K)\n",
    "Xtest=X[-100:]\n",
    "Ytest=Y[-100:]\n",
    "ytest_ind=y2indicator(Ytest,K)\n",
    "W=np.random.randn(D,k)\n",
    "b=np.zeros(k)\n",
    "def forward(X,W,b):\n",
    "    return softmax(X.dot(W)+b)\n",
    "def predict(p_y_given_X):\n",
    "    return np.argmax(p_y_given_X,axis=1)\n",
    "def cross_entropy(T,pY):\n",
    "    return -np.mean(T*np.log(pY))\n",
    "train_cost=[]\n",
    "test_cost=[]\n",
    "learning_rate=0.001\n",
    "for i in range(10000):\n",
    "    pYtrain=forward(Xtrain,W,b)\n",
    "    pYtest=forward(Xtest,W,b)\n",
    "    \n",
    "    ctrain=cross_entropy(ytrain_ind,pYtrain)\n",
    "    ctest=cross_entropy(ytest_ind,pYtest)\n",
    "    train_cost.append(ctrain)\n",
    "    test_cost.append(ctest)\n",
    "    W-=learning_rate*Xtrain.T.dot(pYtrain-ytrain_ind)\n",
    "    b-=learning_rate*(pYtrain-ytrain_ind).sum(axis=0)\n",
    "    if i%1000==0:\n",
    "        print(i,\" \",ctrain,\" \",ctest)\n",
    "print(\"Final train classification rate: \",classification_rate(Ytrain,predict(pYtrain)))\n",
    "print(\"Final test classification rate:\",classification_rate(Ytest,predict(pYtest)))\n",
    "legend1,=plt.plot(train_cost,label='train_cost')\n",
    "legend2=plt.plot(test_cost,label='test_cost')\n",
    "plt.legend([legend1,legend2])\n",
    "plt.show()\n",
    "        \n",
    "    \n",
    "\n",
    "\n"
   ]
  },
  {
   "cell_type": "code",
   "execution_count": 29,
   "metadata": {},
   "outputs": [
    {
     "name": "stdout",
     "output_type": "stream",
     "text": [
      "0   0.49443909887614396   0.48885357979098726\n",
      "1000   0.04571799677991709   0.07373513587422878\n",
      "2000   0.036015206624661227   0.06336727263889069\n",
      "3000   0.030818001231136375   0.05992706241713622\n",
      "4000   0.028278663716014202   0.06245778578129658\n",
      "5000   0.02693062786501573   0.06508606488379383\n",
      "6000   0.026052221609111817   0.06736571220404484\n",
      "7000   0.02544034796143644   0.06943523667958292\n",
      "8000   0.024978043635164492   0.07132457435799865\n",
      "9000   0.02460702247944553   0.07305353530227558\n"
     ]
    },
    {
     "name": "stderr",
     "output_type": "stream",
     "text": [
      "C:\\ProgramData\\Anaconda3\\lib\\site-packages\\ipykernel_launcher.py:3: DeprecationWarning: elementwise comparison failed; this will raise an error in the future.\n",
      "  This is separate from the ipykernel package so we can avoid doing imports until\n"
     ]
    },
    {
     "name": "stdout",
     "output_type": "stream",
     "text": [
      "Final train classification rate:  0.0\n",
      "Final test classification rate: 0.0\n"
     ]
    },
    {
     "data": {
      "image/png": "[encoded data removed]",
      "text/plain": [
       "<Figure size 432x288 with 1 Axes>"
      ]
     },
     "metadata": {
      "needs_background": "light"
     },
     "output_type": "display_data"
    }
   ],
   "source": [
    "#Trainning a nueral network\n",
    "def forward_Neural(x,w1,b1,w2,b2):\n",
    "    #Calcualating the hidden layer Values\n",
    "    z=np.tanh(x.dot(w1)+b1)\n",
    "    #we need to return Z values also as they are the output of the every hidden layer\n",
    "    return softmax(z.dot(w2)+b2),z\n",
    "train_ncost = []\n",
    "test_ncost = []\n",
    "l_nrate = 0.001\n",
    "for i in range(10000):\n",
    "    pY_ntrain,Z_ntrain = forward_Neural(Xtrain,w1,b1,w2,b2)\n",
    "    pY_ntest,Ztest = forward_Neural(Xtest,w1,b1,w2,b2)\n",
    "    ctrain = cross_entropy(ytrain_ind,pY_ntrain)\n",
    "    ctest = cross_entropy(ytest_ind,pY_ntest)\n",
    "    train_ncost.append(ctrain)\n",
    "    test_ncost.append(ctest)\n",
    "    \n",
    "    w2 -= l_nrate*Z_ntrain.T.dot(pY_ntrain-ytrain_ind)\n",
    "    b2 -=l_nrate*(pYtrain-ytrain_ind).sum()\n",
    "    dZ = (pY_ntrain-ytrain_ind).dot(w2.T)*(1-Z_ntrain*Z_ntrain)\n",
    "    w1 -= l_nrate*Xtrain.T.dot(dZ)\n",
    "    b1 -= learning_rate*dZ.sum(axis=0)\n",
    "    \n",
    "    if i%1000==0:\n",
    "        print(i,' ',ctrain,' ',ctest)\n",
    "print(\"Final train classification rate: \",classification_rate(pY_ntrain,predict(pY_ntrain)))\n",
    "print(\"Final test classification rate:\",classification_rate(pY_ntest,predict(pY_ntest)))\n",
    "legend1,=plt.plot(train_cost,label='train_cost')\n",
    "legend2=plt.plot(test_cost,label='test_cost')\n",
    "plt.legend([legend1,legend2])\n",
    "plt.show()\n",
    "\n",
    "    \n"
   ]
  },
  {
   "cell_type": "code",
   "execution_count": null,
   "metadata": {},
   "outputs": [],
   "source": []
  }
 ],
 "metadata": {
  "kernelspec": {
   "display_name": "Python 3",
   "language": "python",
   "name": "python3"
  },
  "language_info": {
   "codemirror_mode": {
    "name": "ipython",
    "version": 3
   },
   "file_extension": ".py",
   "mimetype": "text/x-python",
   "name": "python",
   "nbconvert_exporter": "python",
   "pygments_lexer": "ipython3",
   "version": "3.7.3"
  }
 },
 "nbformat": 4,
 "nbformat_minor": 2
}
